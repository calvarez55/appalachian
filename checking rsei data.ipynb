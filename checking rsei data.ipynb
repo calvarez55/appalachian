{
 "cells": [
  {
   "cell_type": "markdown",
   "id": "4ce31d6e",
   "metadata": {},
   "source": [
    "Checking trucation of RSEI data--specifically large numbers "
   ]
  },
  {
   "cell_type": "code",
   "execution_count": 1,
   "id": "6d65b944",
   "metadata": {},
   "outputs": [],
   "source": [
    "import pandas as pd"
   ]
  },
  {
   "cell_type": "code",
   "execution_count": 3,
   "id": "0bb38224",
   "metadata": {},
   "outputs": [
    {
     "name": "stdout",
     "output_type": "stream",
     "text": [
      "D:\\documents copy\\research\\Practice\\epa_tri_micro\\Oct 2023 verison\n"
     ]
    }
   ],
   "source": [
    "cd \"D:\\documents copy\\research\\Practice\\epa_tri_micro\\Oct 2023 verison\\\"\""
   ]
  },
  {
   "cell_type": "code",
   "execution_count": 10,
   "id": "44c75de0",
   "metadata": {},
   "outputs": [],
   "source": [
    "var_labels=['geoid10','numfacs','numreleases',\n",
    "                      'numchems','toxconc','score','pop',\n",
    "                     'cscore','ncscore']"
   ]
  },
  {
   "cell_type": "code",
   "execution_count": 11,
   "id": "a60a79aa",
   "metadata": {},
   "outputs": [],
   "source": [
    "df = pd.read_csv(\"censusmicrotracts2021_2019_aggregated.csv\", \n",
    "                 names=var_labels)"
   ]
  },
  {
   "cell_type": "code",
   "execution_count": 13,
   "id": "77a0256f",
   "metadata": {
    "scrolled": true
   },
   "outputs": [
    {
     "name": "stdout",
     "output_type": "stream",
     "text": [
      "<bound method NDFrame.head of            geoid10  numfacs  numreleases  numchems    toxconc       score  \\\n",
      "0      36047023200      198          916        98   486.1140    761.1670   \n",
      "1      36029007202       84          380        81   178.0160     62.2904   \n",
      "2      42003429201      146         1624       251  1774.6600   1680.2700   \n",
      "3      17201004100       83          375        57  3648.8600   4001.9900   \n",
      "4      47065011203       80          362        79  1131.6200   1882.3000   \n",
      "...            ...      ...          ...       ...        ...         ...   \n",
      "73688  51087200301       62          278        68  8362.2500   1974.6600   \n",
      "73689   8041004702       13           71        23    26.0864     12.6892   \n",
      "73690  47163043302       46          230        77  7800.5600  11446.4000   \n",
      "73691  34017014700      202          935        99   888.0110    972.3110   \n",
      "73692   8001009320       89          431        68  5701.9000   5185.4200   \n",
      "\n",
      "           pop      cscore     ncscore  \n",
      "0      6199.22    611.5590   156.36200  \n",
      "1      1601.87     47.3481    13.29730  \n",
      "2      4527.60   1575.9500   110.77600  \n",
      "3      5766.72   3986.0900    27.34200  \n",
      "4      7820.66   1413.3700   441.45900  \n",
      "...        ...         ...         ...  \n",
      "73688  1141.74   1869.7900   117.29600  \n",
      "73689  2191.39     11.1400     1.57644  \n",
      "73690  6242.71  10731.4000  1011.20000  \n",
      "73691  4908.65    861.9740   123.67400  \n",
      "73692  3876.04   5156.3300    39.50240  \n",
      "\n",
      "[73693 rows x 9 columns]>\n"
     ]
    }
   ],
   "source": [
    "print(df.head)"
   ]
  },
  {
   "cell_type": "markdown",
   "id": "3be4e7fd",
   "metadata": {},
   "source": [
    "<b>Print the ten largest TOXCONC values</b>"
   ]
  },
  {
   "cell_type": "code",
   "execution_count": 27,
   "id": "68c78135",
   "metadata": {},
   "outputs": [
    {
     "data": {
      "text/html": [
       "<div>\n",
       "<style scoped>\n",
       "    .dataframe tbody tr th:only-of-type {\n",
       "        vertical-align: middle;\n",
       "    }\n",
       "\n",
       "    .dataframe tbody tr th {\n",
       "        vertical-align: top;\n",
       "    }\n",
       "\n",
       "    .dataframe thead th {\n",
       "        text-align: right;\n",
       "    }\n",
       "</style>\n",
       "<table border=\"1\" class=\"dataframe\">\n",
       "  <thead>\n",
       "    <tr style=\"text-align: right;\">\n",
       "      <th></th>\n",
       "      <th>toxconc</th>\n",
       "    </tr>\n",
       "  </thead>\n",
       "  <tbody>\n",
       "    <tr>\n",
       "      <th>24486</th>\n",
       "      <td>4038360.0</td>\n",
       "    </tr>\n",
       "    <tr>\n",
       "      <th>29796</th>\n",
       "      <td>3766650.0</td>\n",
       "    </tr>\n",
       "    <tr>\n",
       "      <th>62254</th>\n",
       "      <td>2594650.0</td>\n",
       "    </tr>\n",
       "    <tr>\n",
       "      <th>21918</th>\n",
       "      <td>2251400.0</td>\n",
       "    </tr>\n",
       "    <tr>\n",
       "      <th>26496</th>\n",
       "      <td>2074180.0</td>\n",
       "    </tr>\n",
       "    <tr>\n",
       "      <th>48955</th>\n",
       "      <td>1334000.0</td>\n",
       "    </tr>\n",
       "    <tr>\n",
       "      <th>18127</th>\n",
       "      <td>1315550.0</td>\n",
       "    </tr>\n",
       "    <tr>\n",
       "      <th>61543</th>\n",
       "      <td>1246720.0</td>\n",
       "    </tr>\n",
       "    <tr>\n",
       "      <th>38562</th>\n",
       "      <td>1190900.0</td>\n",
       "    </tr>\n",
       "    <tr>\n",
       "      <th>8974</th>\n",
       "      <td>1151640.0</td>\n",
       "    </tr>\n",
       "  </tbody>\n",
       "</table>\n",
       "</div>"
      ],
      "text/plain": [
       "         toxconc\n",
       "24486  4038360.0\n",
       "29796  3766650.0\n",
       "62254  2594650.0\n",
       "21918  2251400.0\n",
       "26496  2074180.0\n",
       "48955  1334000.0\n",
       "18127  1315550.0\n",
       "61543  1246720.0\n",
       "38562  1190900.0\n",
       "8974   1151640.0"
      ]
     },
     "execution_count": 27,
     "metadata": {},
     "output_type": "execute_result"
    }
   ],
   "source": [
    "df[['toxconc']].sort_values(by=['toxconc'], ascending=False).nlargest(10,'toxconc')"
   ]
  },
  {
   "cell_type": "markdown",
   "id": "9da5633b",
   "metadata": {},
   "source": [
    "It looks like the data at the high end isn't truncated."
   ]
  }
 ],
 "metadata": {
  "kernelspec": {
   "display_name": "Python 3 (ipykernel)",
   "language": "python",
   "name": "python3"
  },
  "language_info": {
   "codemirror_mode": {
    "name": "ipython",
    "version": 3
   },
   "file_extension": ".py",
   "mimetype": "text/x-python",
   "name": "python",
   "nbconvert_exporter": "python",
   "pygments_lexer": "ipython3",
   "version": "3.11.5"
  }
 },
 "nbformat": 4,
 "nbformat_minor": 5
}
